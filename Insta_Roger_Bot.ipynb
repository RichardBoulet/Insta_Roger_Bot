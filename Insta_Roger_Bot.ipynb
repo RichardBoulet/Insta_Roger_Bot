{
 "cells": [
  {
   "cell_type": "markdown",
   "metadata": {},
   "source": [
    "# Insta Bot for Gaining Followers"
   ]
  },
  {
   "cell_type": "markdown",
   "metadata": {},
   "source": [
    "## This project is to gain followers (unashamedly) for my dog Roger on Instagram."
   ]
  },
  {
   "cell_type": "markdown",
   "metadata": {},
   "source": [
    "## Order of operations for code:\n",
    " - Open a browser and login with your credentials\n",
    " - For every hashtag in the hashtag list, it will open the page and click the first picture to open it\n",
    " - It will then like, follow, comment and move to the next picture, in a 200 iterations loop (number can be adjusted)\n",
    " - Saves a list with all the users you followed using the bot"
   ]
  },
  {
   "cell_type": "markdown",
   "metadata": {},
   "source": [
    "## Ways to get Bot kicked from Instagram:\n",
    "\n",
    " - Liking too many photos\n",
    " - Following too many people at once\n",
    " - BAN: BAD, results from too mnay action blocks\n",
    " - Duplicate comments too many times\n",
    " - Adding too many hashtags to photos you have\n",
    " - IP ban can occur if lots of action blocks over time\n",
    " "
   ]
  },
  {
   "cell_type": "markdown",
   "metadata": {},
   "source": [
    "## Ways to not get kicked:\n",
    " - Post on a regular interval your own photos, regardless of what your bot is doing\n",
    " - Start with normal amount of likes I have given out or followers followed, and start there, and increase the amount the bot does slowly over time\n",
    " - Comments are especially sensetive and must be approached far more slowly and carefully then just bot liking photos, comment less than likes"
   ]
  },
  {
   "cell_type": "code",
   "execution_count": 1,
   "metadata": {
    "execution": {
     "iopub.execute_input": "2020-05-05T13:30:28.739540Z",
     "iopub.status.busy": "2020-05-05T13:30:28.739295Z",
     "iopub.status.idle": "2020-05-05T13:30:28.742722Z",
     "shell.execute_reply": "2020-05-05T13:30:28.742135Z",
     "shell.execute_reply.started": "2020-05-05T13:30:28.739508Z"
    }
   },
   "outputs": [],
   "source": [
    "# Set up gitignore for the creds here first\n",
    "import config\n",
    "\n",
    "from selenium import webdriver\n",
    "from selenium.webdriver.common.keys import Keys\n",
    "from time import sleep, strftime\n",
    "from random import randint\n",
    "import pandas as pd\n",
    "\n",
    "chromedriver_path = '/home/rb/Documents/Python Projects/Chrome_Driver/chromedriver.exe' # Change this to your own chromedriver path!\n",
    "webdriver = webdriver.Chrome(executable_path=chromedriver_path)\n",
    "sleep(2)\n",
    "webdriver.get('https://www.instagram.com/accounts/login/?source=auth_switcher')\n",
    "sleep(3)\n",
    "\n",
    "username = webdriver.find_element_by_name('username')\n",
    "username.send_keys(config.user_id)\n",
    "# password = webdriver.find_element_by_name('password')\n",
    "# password.send_keys('your_password')\n",
    "\n",
    "# button_login = webdriver.find_element_by_css_selector('#react-root > section > main > div > article > div > div:nth-child(1) > div > form > div:nth-child(3) > button')\n",
    "# button_login.click()\n",
    "# sleep(3)\n",
    "\n",
    "# notnow = webdriver.find_element_by_css_selector('body > div:nth-child(13) > div > div > div > div.mt3GC > button.aOOlW.HoLwm')\n",
    "# notnow.click() #comment these last 2 lines out, if you don't get a pop up asking about notifications"
   ]
  },
  {
   "cell_type": "code",
   "execution_count": 2,
   "metadata": {
    "execution": {
     "iopub.execute_input": "2020-05-05T13:30:28.963003Z",
     "iopub.status.busy": "2020-05-05T13:30:28.962852Z",
     "iopub.status.idle": "2020-05-05T13:30:28.966976Z",
     "shell.execute_reply": "2020-05-05T13:30:28.966377Z",
     "shell.execute_reply.started": "2020-05-05T13:30:28.962986Z"
    }
   },
   "outputs": [],
   "source": [
    "# hashtag_list = ['travelblog', 'travelblogger', 'traveler']\n",
    "\n",
    "# # prev_user_list = [] - if it's the first time you run it, use this line and comment the two below\n",
    "# prev_user_list = pd.read_csv('20181203-224633_users_followed_list.csv', delimiter=',').iloc[:,1:2] # useful to build a user log\n",
    "# prev_user_list = list(prev_user_list['0'])\n",
    "\n",
    "# new_followed = []\n",
    "# tag = -1\n",
    "# followed = 0\n",
    "# likes = 0\n",
    "# comments = 0\n",
    "\n",
    "# for hashtag in hashtag_list:\n",
    "#     tag += 1\n",
    "#     webdriver.get('https://www.instagram.com/explore/tags/'+ hashtag_list[tag] + '/')\n",
    "#     sleep(5)\n",
    "#     first_thumbnail = webdriver.find_element_by_xpath('//*[@id=\"react-root\"]/section/main/article/div[1]/div/div/div[1]/div[1]/a/div')\n",
    "    \n",
    "#     first_thumbnail.click()\n",
    "#     sleep(randint(1,2))    \n",
    "#     try:        \n",
    "#         for x in range(1,200):\n",
    "#             username = webdriver.find_element_by_xpath('/html/body/div[3]/div/div[2]/div/article/header/div[2]/div[1]/div[1]/h2/a').text\n",
    "            \n",
    "#             if username not in prev_user_list:\n",
    "#                 # If we already follow, do not unfollow\n",
    "#                 if webdriver.find_element_by_xpath('/html/body/div[3]/div/div[2]/div/article/header/div[2]/div[1]/div[2]/button').text == 'Follow':\n",
    "                    \n",
    "#                     webdriver.find_element_by_xpath('/html/body/div[3]/div/div[2]/div/article/header/div[2]/div[1]/div[2]/button').click()\n",
    "                    \n",
    "#                     new_followed.append(username)\n",
    "#                     followed += 1\n",
    "\n",
    "#                     # Liking the picture\n",
    "#                     button_like = webdriver.find_element_by_xpath('/html/body/div[3]/div/div[2]/div/article/div[2]/section[1]/span[1]/button/span')\n",
    "                    \n",
    "#                     button_like.click()\n",
    "#                     likes += 1\n",
    "#                     sleep(randint(18,25))\n",
    "\n",
    "#                     # Comments and tracker\n",
    "#                     comm_prob = randint(1,10)\n",
    "#                     print('{}_{}: {}'.format(hashtag, x,comm_prob))\n",
    "#                     if comm_prob > 7:\n",
    "#                         comments += 1\n",
    "#                         webdriver.find_element_by_xpath('/html/body/div[3]/div/div[2]/div/article/div[2]/section[1]/span[2]/button/span').click()\n",
    "#                         comment_box = webdriver.find_element_by_xpath('/html/body/div[3]/div/div[2]/div/article/div[2]/section[3]/div/form/textarea')\n",
    "\n",
    "#                         if (comm_prob < 7):\n",
    "#                             comment_box.send_keys('Really cool!')\n",
    "#                             sleep(1)\n",
    "#                         elif (comm_prob > 6) and (comm_prob < 9):\n",
    "#                             comment_box.send_keys('Nice work :)')\n",
    "#                             sleep(1)\n",
    "#                         elif comm_prob == 9:\n",
    "#                             comment_box.send_keys('Nice gallery!!')\n",
    "#                             sleep(1)\n",
    "#                         elif comm_prob == 10:\n",
    "#                             comment_box.send_keys('So cool! :)')\n",
    "#                             sleep(1)\n",
    "#                         # Enter to post comment\n",
    "#                         comment_box.send_keys(Keys.ENTER)\n",
    "#                         sleep(randint(22,28))\n",
    "\n",
    "#                 # Next picture\n",
    "#                 webdriver.find_element_by_link_text('Next').click()\n",
    "#                 sleep(randint(25,29))\n",
    "#             else:\n",
    "#                 webdriver.find_element_by_link_text('Next').click()\n",
    "#                 sleep(randint(20,26))\n",
    "#     # some hashtag stops refreshing photos (it may happen sometimes), it continues to the next\n",
    "#     except:\n",
    "#         continue\n",
    "\n",
    "# for n in range(0,len(new_followed)):\n",
    "#     prev_user_list.append(new_followed[n])\n",
    "    \n",
    "# updated_user_df = pd.DataFrame(prev_user_list)\n",
    "# updated_user_df.to_csv('{}_users_followed_list.csv'.format(strftime(\"%Y%m%d-%H%M%S\")))\n",
    "# print('Liked {} photos.'.format(likes))\n",
    "# print('Commented {} photos.'.format(comments))\n",
    "# print('Followed {} new people.'.format(followed))"
   ]
  },
  {
   "cell_type": "code",
   "execution_count": null,
   "metadata": {},
   "outputs": [],
   "source": []
  }
 ],
 "metadata": {
  "kernelspec": {
   "display_name": "Python 3",
   "language": "python",
   "name": "python3"
  },
  "language_info": {
   "codemirror_mode": {
    "name": "ipython",
    "version": 3
   },
   "file_extension": ".py",
   "mimetype": "text/x-python",
   "name": "python",
   "nbconvert_exporter": "python",
   "pygments_lexer": "ipython3",
   "version": "3.7.7"
  }
 },
 "nbformat": 4,
 "nbformat_minor": 4
}
